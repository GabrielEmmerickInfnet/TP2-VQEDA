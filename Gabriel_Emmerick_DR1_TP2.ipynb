{
 "cells": [
  {
   "cell_type": "code",
   "execution_count": 1,
   "id": "f52b0574-2d1d-466d-9e73-0f620639aad6",
   "metadata": {},
   "outputs": [],
   "source": [
    "#Exercicio 1\n",
    "#Função 1\n",
    "def funcao1(n):\n",
    "    for i in range(n):\n",
    "        print(i)\n",
    "\n",
    "#Função 2\n",
    "def funcao2(n):\n",
    "    for i in range(n):\n",
    "        for j in range(n):\n",
    "            print(i, j)\n",
    "\n",
    "#Função 3\n",
    "def funcao3(n):\n",
    "    if n <= 1:\n",
    "        return n\n",
    "    return funcao3(n - 1) + funcao3(n - 2)"
   ]
  },
  {
   "cell_type": "code",
   "execution_count": 3,
   "id": "b1ce20cd-5a35-4906-981e-d05d4f8b11a0",
   "metadata": {},
   "outputs": [
    {
     "name": "stdout",
     "output_type": "stream",
     "text": [
      "Os primeiros registros ordenados: [0, 0, 0, 1, 1, 1, 1, 1, 1, 2]\n"
     ]
    }
   ],
   "source": [
    "#Exercicio 2\n",
    "def merge_sort(array):\n",
    "    if len(array) <= 1: \n",
    "        return array\n",
    "\n",
    "    # Divide a lista no meio\n",
    "    meio = len(array) // 2\n",
    "    esquerda = merge_sort(array[:meio])  # Ordena a metade esquerda\n",
    "    direita = merge_sort(array[meio:])  # Ordena a metade direita\n",
    "\n",
    "    return merge(esquerda, direita)\n",
    "\n",
    "def merge(esquerda, direita):\n",
    "    resultado = []\n",
    "    i = j = 0\n",
    "\n",
    "    # Combina as listas mantendo a ordem\n",
    "    while i < len(esquerda) and j < len(direita):\n",
    "        if esquerda[i] < direita[j]:\n",
    "            resultado.append(esquerda[i])\n",
    "            i += 1\n",
    "        else:\n",
    "            resultado.append(direita[j])\n",
    "            j += 1\n",
    "\n",
    "    # Adiciona os elementos restantes\n",
    "    resultado.extend(esquerda[i:])\n",
    "    resultado.extend(direita[j:])\n",
    "    return resultado\n",
    "\n",
    "# Testando a função\n",
    "import random\n",
    "registros = [random.randint(0, 1000000) for _ in range(5000000)]\n",
    "sorted_registros = merge_sort(registros) \n",
    "print(\"Os primeiros registros ordenados:\", sorted_registros[:10])"
   ]
  },
  {
   "cell_type": "code",
   "execution_count": 2,
   "id": "35ba67a4-27c1-4def-88c4-baaa4834414c",
   "metadata": {},
   "outputs": [
    {
     "name": "stdout",
     "output_type": "stream",
     "text": [
      "Duplicados encontrados: [1, 2, 3]\n",
      "Duplicados encontrados (otimizado): [1, 2, 3]\n"
     ]
    }
   ],
   "source": [
    "#Exercicio 3 - Força Bruta\n",
    "def encontrar_duplicados_bruto(lista):\n",
    "    duplicados = []\n",
    "    for i in range(len(lista)):\n",
    "        for j in range(i + 1, len(lista)):\n",
    "            if lista[i] == lista[j] and lista[i] not in duplicados:\n",
    "                duplicados.append(lista[i])\n",
    "    return duplicados\n",
    "\n",
    "# Testando a função\n",
    "lista_teste = [1, 2, 3, 4, 5, 2, 3, 6, 7, 8, 1]\n",
    "duplicados_bruto = encontrar_duplicados_bruto(lista_teste)\n",
    "print(\"Duplicados encontrados:\", duplicados_bruto)\n",
    "\n",
    "#Exercicio 3 - Otimizado\n",
    "def encontrar_duplicados_otimizado(lista):\n",
    "    vistos = set()\n",
    "    duplicados = set()\n",
    "\n",
    "    for num in lista:\n",
    "        if num in vistos:\n",
    "            duplicados.add(num)\n",
    "        else:\n",
    "            vistos.add(num)\n",
    "\n",
    "    return list(duplicados)\n",
    "\n",
    "# Testando a função\n",
    "duplicados_otimizado = encontrar_duplicados_otimizado(lista_teste)\n",
    "print(\"Duplicados encontrados (otimizado):\", duplicados_otimizado)"
   ]
  },
  {
   "cell_type": "code",
   "execution_count": 2,
   "id": "60462030-2be5-4f3e-8f7b-bfa00f7d457d",
   "metadata": {},
   "outputs": [
    {
     "name": "stdout",
     "output_type": "stream",
     "text": [
      "Pilha original ordenada em ordem crescente: [60, 70, 75, 85, 90, 95]\n"
     ]
    }
   ],
   "source": [
    "#Exercicio 4\n",
    "def ordenar_pilha(pilha):\n",
    "    pilha_auxiliar = []\n",
    "\n",
    "    while pilha:  \n",
    "        temp = pilha.pop()  # Remove o topo da pilha original\n",
    "\n",
    "        # Move elementos da pilha auxiliar \n",
    "        while pilha_auxiliar and pilha_auxiliar[-1] > temp:\n",
    "            pilha.append(pilha_auxiliar.pop())\n",
    "\n",
    "        # Insere o elemento\n",
    "        pilha_auxiliar.append(temp)\n",
    "\n",
    "    # Retorna os elementos \n",
    "    return pilha_auxiliar\n",
    "\n",
    "# Testando a função\n",
    "pilha_notas = [75, 90, 85, 60, 95, 70]  # Exemplo de pilha com notas escolares\n",
    "pilha_ordenada = ordenar_pilha(pilha_notas)\n",
    "print(\"Pilha original ordenada em ordem crescente:\", pilha_ordenada)"
   ]
  },
  {
   "cell_type": "code",
   "execution_count": 4,
   "id": "6bf9aefa-592e-4f8c-9eca-3b76f4095e4b",
   "metadata": {},
   "outputs": [
    {
     "name": "stdout",
     "output_type": "stream",
     "text": [
      "Tarefa no topo da pilha: Responder e-mails\n",
      "Pilha de tarefas após consulta: ['Enviar relatório', 'Revisar código', 'Marcar reunião', 'Responder e-mails']\n"
     ]
    }
   ],
   "source": [
    "#Exercicio 5\n",
    "def tarefa_no_topo(pilha_de_tarefas):\n",
    "    if not pilha_de_tarefas:\n",
    "        return \"A pilha de tarefas está vazia.\"\n",
    "    return pilha_de_tarefas[-1] \n",
    "    \n",
    "# Exemplo de pilha de tarefas\n",
    "pilha_de_tarefas = [\"Enviar relatório\", \"Revisar código\", \"Marcar reunião\", \"Responder e-mails\"]\n",
    "\n",
    "# Testando a função\n",
    "tarefa_topo = tarefa_no_topo(pilha_de_tarefas)\n",
    "print(\"Tarefa no topo da pilha:\", tarefa_topo)\n",
    "\n",
    "# Verificando se a pilha permaneceu intacta\n",
    "print(\"Pilha de tarefas após consulta:\", pilha_de_tarefas)"
   ]
  },
  {
   "cell_type": "code",
   "execution_count": 1,
   "id": "46ac0eab-b813-4fbc-ae55-b3c26038a52f",
   "metadata": {},
   "outputs": [
    {
     "name": "stdout",
     "output_type": "stream",
     "text": [
      "Quantidade de pedidos ímpares: 4\n",
      "Pilha de pedidos após a contagem: [12, 13, 24, 35, 56, 67, 78, 89, 90]\n"
     ]
    }
   ],
   "source": [
    "#Exercicio 6\n",
    "def contar_pedidos_impares(pilha_de_pedidos):\n",
    "    contador = 0  \n",
    "    for pedido in pilha_de_pedidos:\n",
    "        if pedido % 2 != 0:\n",
    "            contador += 1\n",
    "\n",
    "    return contador\n",
    "    \n",
    "# Exemplo \n",
    "pilha_de_pedidos = [12, 13, 24, 35, 56, 67, 78, 89, 90]\n",
    "\n",
    "# Chamando a função\n",
    "qtd_impares = contar_pedidos_impares(pilha_de_pedidos)\n",
    "print(\"Quantidade de pedidos ímpares:\", qtd_impares)\n",
    "\n",
    "# Verificando se a pilha original permaneceu intacta\n",
    "print(\"Pilha de pedidos após a contagem:\", pilha_de_pedidos)"
   ]
  },
  {
   "cell_type": "code",
   "execution_count": 3,
   "id": "1f80f7a0-4b11-4e31-8111-96881cefc70c",
   "metadata": {},
   "outputs": [
    {
     "name": "stdout",
     "output_type": "stream",
     "text": [
      "Quantidade de pedidos pares: 5\n",
      "Pilha de pedidos após a contagem: [12, 13, 24, 35, 56, 67, 78, 89, 90]\n"
     ]
    }
   ],
   "source": [
    "#Exercicio 7\n",
    "def contar_pedidos_pares(pilha_de_pedidos):\n",
    "    contador = 0\n",
    "\n",
    "    for pedido in pilha_de_pedidos:\n",
    "        if pedido % 2 == 0:\n",
    "            contador += 1\n",
    "\n",
    "    return contador\n",
    "    \n",
    "# Exemplo \n",
    "pilha_de_pedidos = [12, 13, 24, 35, 56, 67, 78, 89, 90]\n",
    "\n",
    "# Chamando a função\n",
    "qtd_pares = contar_pedidos_pares(pilha_de_pedidos)\n",
    "print(\"Quantidade de pedidos pares:\", qtd_pares)\n",
    "\n",
    "# Verificando se a pilha original permaneceu intacta\n",
    "print(\"Pilha de pedidos após a contagem:\", pilha_de_pedidos)"
   ]
  },
  {
   "cell_type": "code",
   "execution_count": 1,
   "id": "13c99d0e-087f-4909-90c1-71e50e9ff227",
   "metadata": {},
   "outputs": [
    {
     "name": "stdout",
     "output_type": "stream",
     "text": [
      "Fila original: ['Paciente A', 'Paciente B', 'Paciente C', 'Paciente D']\n",
      "Fila invertida: ['Paciente D', 'Paciente C', 'Paciente B', 'Paciente A']\n",
      "Fila invertida in-place: ['Paciente D', 'Paciente C', 'Paciente B', 'Paciente A']\n"
     ]
    }
   ],
   "source": [
    "#Exercicio 8\n",
    "def inverter_fila(fila):\n",
    "    # Reverter a fila usando slicing\n",
    "    fila_invertida = fila[::-1]\n",
    "    return fila_invertida\n",
    "\n",
    "# fila de pacientes\n",
    "fila_pacientes = [\"Paciente A\", \"Paciente B\", \"Paciente C\", \"Paciente D\"]\n",
    "\n",
    "# Chamando a função para inverter a fila\n",
    "fila_invertida = inverter_fila(fila_pacientes)\n",
    "print(\"Fila original:\", fila_pacientes)\n",
    "print(\"Fila invertida:\", fila_invertida)\n",
    "\n",
    "#Alternativa\n",
    "def inverter_fila_inplace(fila):\n",
    "    fila.reverse()\n",
    "    return fila\n",
    "    \n",
    "fila_pacientes = [\"Paciente A\", \"Paciente B\", \"Paciente C\", \"Paciente D\"]\n",
    "inverter_fila_inplace(fila_pacientes)\n",
    "print(\"Fila invertida in-place:\", fila_pacientes)"
   ]
  },
  {
   "cell_type": "code",
   "execution_count": 4,
   "id": "4aeaf713-c93c-428f-b95f-526cf0ee254e",
   "metadata": {},
   "outputs": [
    {
     "name": "stdout",
     "output_type": "stream",
     "text": [
      "Lista original: [5, 10, 23, 23, 32, 62, 77, 344]\n",
      "Lista ordenada: [5, 10, 23, 23, 32, 62, 77, 344]\n"
     ]
    }
   ],
   "source": [
    "#Exercicio 9\n",
    "def ordenar_lista(lista):\n",
    "    n = len(lista)\n",
    "\n",
    "    # Percorre toda a lista\n",
    "    for i in range(n):\n",
    "        # Realiza as comparações \n",
    "        for j in range(0, n - i - 1):\n",
    "            if lista[j] > lista[j + 1]:  \n",
    "                lista[j], lista[j + 1] = lista[j + 1], lista[j]\n",
    "    \n",
    "    return lista\n",
    "    \n",
    "lista_teste = [344, 77, 23, 32, 5, 62, 23, 10]\n",
    "\n",
    "# Chamando a função \n",
    "lista_ordenada = ordenar_lista(lista_teste)\n",
    "print(\"Lista original:\", lista_teste)\n",
    "print(\"Lista ordenada:\", lista_ordenada)\n"
   ]
  },
  {
   "cell_type": "code",
   "execution_count": 5,
   "id": "4fe2b7ef-c6bc-4b1c-ac75-c95e5f54804b",
   "metadata": {},
   "outputs": [
    {
     "name": "stdout",
     "output_type": "stream",
     "text": [
      "Quantidade de livros ímpares: 5\n"
     ]
    }
   ],
   "source": [
    "#Exercicio 10\n",
    "def contar_livros_impares(fila_livros):\n",
    "    contador = 0\n",
    "\n",
    "    # Itera sobre a fila de livros\n",
    "    for livro in fila_livros:\n",
    "        if livro % 2 != 0:\n",
    "            contador += 1\n",
    "\n",
    "    return contador\n",
    "\n",
    "# Exemplo de fila de livros com números de identificação\n",
    "fila_livros = [11, 24, 33, 56, 79, 88, 91, 102, 113]\n",
    "\n",
    "# Chamando a função\n",
    "qtd_impares = contar_livros_impares(fila_livros)\n",
    "print(\"Quantidade de livros ímpares:\", qtd_impares)"
   ]
  },
  {
   "cell_type": "code",
   "execution_count": 6,
   "id": "4c863b25-29aa-46fd-b31a-c838a99f300b",
   "metadata": {},
   "outputs": [
    {
     "name": "stdout",
     "output_type": "stream",
     "text": [
      "Cliente Gabriel foi adicionado à fila.\n",
      "Cliente Flavio foi adicionado à fila.\n",
      "Cliente Andre foi adicionado à fila.\n",
      "Tamanho da fila: 3\n",
      "Atendendo o cliente: Gabriel\n",
      "Atendendo o cliente: Flavio\n",
      "Tamanho da fila após atendimentos: 1\n",
      "Atendendo o cliente: Andre\n",
      "Não há clientes na fila para atender.\n"
     ]
    }
   ],
   "source": [
    "#Exercicio 11\n",
    "class FilaAtendimento:\n",
    "    def __init__(self):\n",
    "        self.fila = []  # Inicializa uma lista\n",
    "\n",
    "    def adicionar_cliente(self, nome):\n",
    "        \"\"\"Adiciona um cliente ao final da fila\"\"\"\n",
    "        self.fila.append(nome)\n",
    "        print(f\"Cliente {nome} foi adicionado à fila.\")\n",
    "\n",
    "    def atender_cliente(self):\n",
    "        \"\"\"Remove o cliente do início da fila e exibe o nome\"\"\"\n",
    "        if not self.fila:  # Verifica se a fila está vazia\n",
    "            print(\"Não há clientes na fila para atender.\")\n",
    "            return None\n",
    "        cliente = self.fila.pop(0)  # Remove o primeiro cliente da fila\n",
    "        print(f\"Atendendo o cliente: {cliente}\")\n",
    "        return cliente\n",
    "\n",
    "    def tamanho_fila(self):\n",
    "        \"\"\"Retorna o número de clientes restantes na fila\"\"\"\n",
    "        return len(self.fila)\n",
    "\n",
    "# Instanciando a classe FilaAtendimento\n",
    "fila_atendimento = FilaAtendimento()\n",
    "\n",
    "# Adicionando clientes à fila\n",
    "fila_atendimento.adicionar_cliente(\"Gabriel\")\n",
    "fila_atendimento.adicionar_cliente(\"Flavio\")\n",
    "fila_atendimento.adicionar_cliente(\"Andre\")\n",
    "\n",
    "# Verificando o tamanho da fila\n",
    "print(\"Tamanho da fila:\", fila_atendimento.tamanho_fila())\n",
    "\n",
    "# Atendendo clientes\n",
    "fila_atendimento.atender_cliente()\n",
    "fila_atendimento.atender_cliente()\n",
    "\n",
    "# Verificando o tamanho da fila após atender clientes\n",
    "print(\"Tamanho da fila após atendimentos:\", fila_atendimento.tamanho_fila())\n",
    "\n",
    "# Atendendo o último cliente\n",
    "fila_atendimento.atender_cliente()\n",
    "\n",
    "# Tentando atender em uma fila vazia\n",
    "fila_atendimento.atender_cliente()"
   ]
  },
  {
   "cell_type": "code",
   "execution_count": 7,
   "id": "67d42056-a824-48bf-82e5-908ccba35e36",
   "metadata": {},
   "outputs": [
    {
     "name": "stdout",
     "output_type": "stream",
     "text": [
      "Nome: Gabriel\n",
      "Idade: 25\n",
      "Cidade: São Paulo\n",
      "Cidade atualizada: Rio de Janeiro\n",
      "Profissão após remoção: None\n",
      "Busca por chave inexistente: None\n"
     ]
    }
   ],
   "source": [
    "#Exercicio 12\n",
    "class TabelaHash:\n",
    "    def __init__(self, tamanho):\n",
    "        \"\"\"Inicializa a tabela hash com o tamanho especificado\"\"\"\n",
    "        self.tamanho = tamanho\n",
    "        self.tabela = [[] for _ in range(tamanho)]  # Lista de listas (encadeamento separado)\n",
    "\n",
    "    def _hash(self, chave):\n",
    "        \"\"\"Calcula o índice da tabela hash com base na chave\"\"\"\n",
    "        return hash(chave) % self.tamanho\n",
    "\n",
    "    def inserir(self, chave, valor):\n",
    "        \"\"\"Insere uma chave e seu valor na tabela\"\"\"\n",
    "        indice = self._hash(chave)\n",
    "        # Procura se a chave já existe e atualiza o valor\n",
    "        for item in self.tabela[indice]:\n",
    "            if item[0] == chave:\n",
    "                item[1] = valor  # Atualiza o valor\n",
    "                return\n",
    "        # Caso contrário, adiciona uma nova entrada\n",
    "        self.tabela[indice].append([chave, valor])\n",
    "\n",
    "    def buscar(self, chave):\n",
    "        \"\"\"Busca o valor associado a uma chave\"\"\"\n",
    "        indice = self._hash(chave)\n",
    "        for item in self.tabela[indice]:\n",
    "            if item[0] == chave:\n",
    "                return item[1]\n",
    "        return None  # Retorna None se a chave não for encontrada\n",
    "\n",
    "    def remover(self, chave):\n",
    "        \"\"\"Remove uma chave (e seu valor) da tabela\"\"\"\n",
    "        indice = self._hash(chave)\n",
    "        for i, item in enumerate(self.tabela[indice]):\n",
    "            if item[0] == chave:\n",
    "                del self.tabela[indice][i]  # Remove o par chave-valor\n",
    "                return True\n",
    "        return False  # Retorna False se a chave não for encontrada\n",
    "\n",
    "# Instanciando a Tabela Hash\n",
    "tabela = TabelaHash(10)\n",
    "\n",
    "# Inserindo valores na tabela hash\n",
    "tabela.inserir(\"nome\", \"Gabriel\")\n",
    "tabela.inserir(\"idade\", 25)\n",
    "tabela.inserir(\"cidade\", \"São Paulo\")\n",
    "tabela.inserir(\"profissao\", \"Engenheiro de Software\")\n",
    "\n",
    "# Buscando valores na tabela hash\n",
    "print(\"Nome:\", tabela.buscar(\"nome\"))\n",
    "print(\"Idade:\", tabela.buscar(\"idade\"))\n",
    "print(\"Cidade:\", tabela.buscar(\"cidade\"))\n",
    "\n",
    "# Atualizando um valor\n",
    "tabela.inserir(\"cidade\", \"Rio de Janeiro\")\n",
    "print(\"Cidade atualizada:\", tabela.buscar(\"cidade\"))\n",
    "\n",
    "# Removendo uma chave\n",
    "tabela.remover(\"profissao\")\n",
    "print(\"Profissão após remoção:\", tabela.buscar(\"profissao\"))\n",
    "\n",
    "# Tentando buscar uma chave inexistente\n",
    "print(\"Busca por chave inexistente:\", tabela.buscar(\"inexistente\"))"
   ]
  },
  {
   "cell_type": "code",
   "execution_count": null,
   "id": "3b1124cd-8381-4ab5-96fc-792db7578b60",
   "metadata": {},
   "outputs": [],
   "source": []
  }
 ],
 "metadata": {
  "kernelspec": {
   "display_name": "Python 3 (ipykernel)",
   "language": "python",
   "name": "python3"
  },
  "language_info": {
   "codemirror_mode": {
    "name": "ipython",
    "version": 3
   },
   "file_extension": ".py",
   "mimetype": "text/x-python",
   "name": "python",
   "nbconvert_exporter": "python",
   "pygments_lexer": "ipython3",
   "version": "3.9.13"
  }
 },
 "nbformat": 4,
 "nbformat_minor": 5
}
